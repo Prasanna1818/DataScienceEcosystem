{
 "cells": [
  {
   "cell_type": "markdown",
   "id": "33a7f0d6",
   "metadata": {},
   "source": [
    "# Data Science Tools and Ecosystem\n"
   ]
  },
  {
   "cell_type": "markdown",
   "id": "3bb40231",
   "metadata": {},
   "source": [
    "In this notebook, Data Science Tools and Ecosystem are summarized."
   ]
  },
  {
   "cell_type": "markdown",
   "id": "e23fe737",
   "metadata": {},
   "source": [
    "**Objectives:**\n",
    "- Introduce the Data Science Tools and Ecosystem.\n",
    "- Provide an overview of popular languages for Data Science.\n",
    "- Explore commonly used libraries in Data Science.\n",
    "- Highlight open-source tools used in Data Science development environments.\n",
    "- Demonstrate the evaluation of arithmetic expressions in Python.\n"
   ]
  },
  {
   "cell_type": "markdown",
   "id": "a194a068",
   "metadata": {},
   "source": [
    "Some of the popular languages that Data Scientists use are:\n",
    "\n",
    "1.Python\n",
    "\n",
    "2.R\n",
    "\n",
    "3.SQL\n",
    "\n",
    "4.Julia\n",
    "\n",
    "5.Scala\n",
    "\n",
    "6.Matlab\n",
    "\n",
    "7.Javascript\n",
    "\n",
    "8.Php\n",
    "\n",
    "9.Go\n",
    "\n",
    "10.Ruby\n",
    "\n",
    "11.Visual Basic\n",
    "\n",
    "12.Java\n"
   ]
  },
  {
   "cell_type": "markdown",
   "id": "f18c5b90",
   "metadata": {},
   "source": [
    "Some of the commonly used libraries used by Data Scientists include:\n",
    "\n",
    "1. NumPy\n",
    "2. Pandas\n",
    "3. Matplotlib\n",
    "4. Seaborn\n",
    "5. Scikit-learn\n",
    "6. Keras\n",
    "7. Tensorflow\n",
    "8. Pytorch\n",
    "9. dplyr\n",
    "10.ggplot2\n",
    "11.Apache Spark\n",
    "12.Vegas\n",
    "13.Big DL\n"
   ]
  },
  {
   "cell_type": "markdown",
   "id": "7e00957e",
   "metadata": {},
   "source": [
    "| Data Science Tools |\n",
    "|--------------------|\n",
    "| Jupyter Notebook   |\n",
    "| RStudio            |\n",
    "| VSCode             |\n"
   ]
  },
  {
   "cell_type": "markdown",
   "id": "418cd068",
   "metadata": {},
   "source": [
    "### Below are a few examples of evaluating arithmetic expressions in Python.\n"
   ]
  },
  {
   "cell_type": "markdown",
   "id": "7f20b9de",
   "metadata": {},
   "source": [
    "- Addition: 3 + 4\n",
    "- Subtraction: 10 - 5\n",
    "- Multiplication: 6 * 8\n",
    "- Division: 20 / 4\n"
   ]
  },
  {
   "cell_type": "code",
   "execution_count": 1,
   "id": "7ed9b1a2",
   "metadata": {},
   "outputs": [
    {
     "data": {
      "text/plain": [
       "17"
      ]
     },
     "execution_count": 1,
     "metadata": {},
     "output_type": "execute_result"
    }
   ],
   "source": [
    "# This is a simple arithmetic expression to multiply then add integers\n",
    "\n",
    "result = (3 * 4) + 5\n",
    "result\n"
   ]
  },
  {
   "cell_type": "code",
   "execution_count": 3,
   "id": "3a07d6f2",
   "metadata": {},
   "outputs": [
    {
     "data": {
      "text/plain": [
       "3.3333333333333335"
      ]
     },
     "execution_count": 3,
     "metadata": {},
     "output_type": "execute_result"
    }
   ],
   "source": [
    "# This will convert 200 minutes to hours by dividing by 60.\n",
    "\n",
    "minutes = 200\n",
    "hours = minutes / 60\n",
    "hours\n"
   ]
  },
  {
   "cell_type": "markdown",
   "id": "8b0f8799",
   "metadata": {},
   "source": [
    "## Author\n",
    "Tata sai prasanna\n"
   ]
  },
  {
   "cell_type": "code",
   "execution_count": null,
   "id": "c759703c",
   "metadata": {},
   "outputs": [],
   "source": []
  }
 ],
 "metadata": {
  "kernelspec": {
   "display_name": "Python 3 (ipykernel)",
   "language": "python",
   "name": "python3"
  },
  "language_info": {
   "codemirror_mode": {
    "name": "ipython",
    "version": 3
   },
   "file_extension": ".py",
   "mimetype": "text/x-python",
   "name": "python",
   "nbconvert_exporter": "python",
   "pygments_lexer": "ipython3",
   "version": "3.9.7"
  }
 },
 "nbformat": 4,
 "nbformat_minor": 5
}
